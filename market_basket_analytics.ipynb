{
 "cells": [
  {
   "cell_type": "code",
   "execution_count": 1,
   "metadata": {
    "collapsed": true
   },
   "outputs": [],
   "source": [
    "# Importing Libraries\n",
    "import requests\n",
    "import csv"
   ]
  },
  {
   "cell_type": "code",
   "execution_count": 2,
   "metadata": {
    "collapsed": true
   },
   "outputs": [],
   "source": [
    "# Loading the Market Basket Training File\n",
    "url = \"http://kevincrook.com/utd/market_basket_training.txt\""
   ]
  },
  {
   "cell_type": "code",
   "execution_count": 3,
   "metadata": {
    "collapsed": true
   },
   "outputs": [],
   "source": [
    "request = requests.get(url)"
   ]
  },
  {
   "cell_type": "code",
   "execution_count": 4,
   "metadata": {
    "collapsed": true
   },
   "outputs": [],
   "source": [
    "openTrainFile = open(\"market_basket_training.txt\", \"wb\")"
   ]
  },
  {
   "cell_type": "code",
   "execution_count": 5,
   "metadata": {},
   "outputs": [
    {
     "data": {
      "text/plain": [
       "19800764"
      ]
     },
     "execution_count": 5,
     "metadata": {},
     "output_type": "execute_result"
    }
   ],
   "source": [
    "openTrainFile.write(request.content)"
   ]
  },
  {
   "cell_type": "code",
   "execution_count": 6,
   "metadata": {
    "collapsed": true
   },
   "outputs": [],
   "source": [
    "openTrainFile.close()"
   ]
  },
  {
   "cell_type": "code",
   "execution_count": 7,
   "metadata": {
    "collapsed": true
   },
   "outputs": [],
   "source": [
    "# Creating Training List\n",
    "traininglist = []"
   ]
  },
  {
   "cell_type": "code",
   "execution_count": 8,
   "metadata": {
    "collapsed": true
   },
   "outputs": [],
   "source": [
    "with open(\"market_basket_training.txt\", encoding='UTF-8') as file:\n",
    "    reader = csv.reader(file, delimiter=',')\n",
    "    for row in reader:\n",
    "        traininglist.append(row[1:])"
   ]
  },
  {
   "cell_type": "code",
   "execution_count": 9,
   "metadata": {
    "collapsed": true
   },
   "outputs": [],
   "source": [
    "file.close()"
   ]
  },
  {
   "cell_type": "code",
   "execution_count": 10,
   "metadata": {
    "collapsed": true
   },
   "outputs": [],
   "source": [
    "# Loading the Training set \"market_basket_test\"\n",
    "url1 = \"http://kevincrook.com/utd/market_basket_test.txt\""
   ]
  },
  {
   "cell_type": "code",
   "execution_count": 11,
   "metadata": {
    "collapsed": true
   },
   "outputs": [],
   "source": [
    "request1 = requests.get(url1)"
   ]
  },
  {
   "cell_type": "code",
   "execution_count": 12,
   "metadata": {
    "collapsed": true
   },
   "outputs": [],
   "source": [
    "openTestFile = open(\"market_basket_test.txt\", \"wb\")"
   ]
  },
  {
   "cell_type": "code",
   "execution_count": 13,
   "metadata": {},
   "outputs": [
    {
     "data": {
      "text/plain": [
       "1488"
      ]
     },
     "execution_count": 13,
     "metadata": {},
     "output_type": "execute_result"
    }
   ],
   "source": [
    "openTestFile.write(request1.content)"
   ]
  },
  {
   "cell_type": "code",
   "execution_count": 14,
   "metadata": {
    "collapsed": true
   },
   "outputs": [],
   "source": [
    "openTestFile.close()"
   ]
  },
  {
   "cell_type": "code",
   "execution_count": 15,
   "metadata": {
    "collapsed": true
   },
   "outputs": [],
   "source": [
    "# Creating Test List\n",
    "testlist = []"
   ]
  },
  {
   "cell_type": "code",
   "execution_count": 16,
   "metadata": {
    "collapsed": true
   },
   "outputs": [],
   "source": [
    "with open('market_basket_test.txt', encoding='UTF-8') as file1:\n",
    "    reader = csv.reader(file1, delimiter=',')\n",
    "    for row in reader:\n",
    "        testlist.append(row[1:])"
   ]
  },
  {
   "cell_type": "code",
   "execution_count": 17,
   "metadata": {
    "collapsed": true
   },
   "outputs": [],
   "source": [
    "file1.close()"
   ]
  },
  {
   "cell_type": "code",
   "execution_count": 18,
   "metadata": {
    "collapsed": true
   },
   "outputs": [],
   "source": [
    "# Generating Recommendation List\n",
    "TestingList = []"
   ]
  },
  {
   "cell_type": "code",
   "execution_count": 19,
   "metadata": {
    "collapsed": true
   },
   "outputs": [],
   "source": [
    "comparelist = ['P01', 'P02', 'P03', 'P04', 'P05', 'P06', 'P07', 'P08', 'P09', 'P10']"
   ]
  },
  {
   "cell_type": "code",
   "execution_count": 20,
   "metadata": {
    "collapsed": true
   },
   "outputs": [],
   "source": [
    "# Creating a Function Search Transaction List\n",
    "def searchtransactionlist(searchlist, traininglist):   \n",
    "    transactioncount = 0\n",
    "    for transactionlist in traininglist:\n",
    "        if( set(searchlist) == set(transactionlist) ):\n",
    "            transactioncount += 1\n",
    "    return transactioncount "
   ]
  },
  {
   "cell_type": "code",
   "execution_count": 21,
   "metadata": {},
   "outputs": [],
   "source": [
    "for productlist in testlist:   \n",
    "    recommendationlist = []\n",
    "    recommendationlist1 = []\n",
    "    recommendationlist2 = []\n",
    "    length = len(productlist)\n",
    "    \n",
    "    if(length == 1):\n",
    "        \n",
    "        for sublist in comparelist: \n",
    "            extendedproductlist = []\n",
    "            if( productlist[0] != sublist):\n",
    "                extendedproductlist.extend( [productlist[0], sublist] )\n",
    "                frequencycount = searchtransactionlist(extendedproductlist, traininglist)        \n",
    "                recommendationlist.append( [productlist[0], sublist, frequencycount] )\n",
    "                \n",
    "        recommendationlist.sort( key = lambda x : x[2], reverse = True )\n",
    "        recommendation = recommendationlist[0][1]\n",
    "        TestingList.append( [productlist[0], recommendation] )    \n",
    "    \n",
    "    # Testing Items with 2 Products in list\n",
    "    elif(length == 2):\n",
    "        if( 'P04' in productlist ):\n",
    "            productlist.remove('P04')\n",
    "        elif( 'P08' in productlist ):\n",
    "            productlist.remove('P08')\n",
    "            \n",
    "        if( len(productlist) == 2 ):    \n",
    "            for sublist1 in comparelist:   \n",
    "                extendedproductlist1 = []               \n",
    "                if( productlist[0] != sublist1 and productlist[1] != sublist1):\n",
    "                    extendedproductlist1.extend( [ productlist[0], productlist[1], sublist1 ] )\n",
    "                    frequencycount1 = searchtransactionlist(extendedproductlist1, traininglist)\n",
    "                    recommendationlist1.append([productlist[0], productlist[1], sublist1, frequencycount1])                            \n",
    "            \n",
    "            recommendationlist1.sort( key = lambda x : x[3], reverse = True )\n",
    "            recommendation1 = recommendationlist1[0][2]\n",
    "            TestingList.append( [productlist[0], recommendation1] )\n",
    "            \n",
    "        # After Removing 'P04' OR 'P08' from 2 Items baskets.\n",
    "        elif( len(productlist) == 1 ):\n",
    "            for sublist1 in comparelist:         \n",
    "                extendedproductlist1 = []\n",
    "                if( productlist[0] != sublist1 ):\n",
    "                    extendedproductlist1.extend( [ productlist[0], sublist1 ] )                  \n",
    "                    frequencycount1 = searchtransactionlist(extendedproductlist1, traininglist)\n",
    "                    recommendationlist1.append([productlist[0], sublist1, frequencycount1])                            \n",
    "            \n",
    "            recommendationlist1.sort( key = lambda x : x[2], reverse = True )\n",
    "            recommendation1 = recommendationlist1[0][1]\n",
    "            TestingList.append( [productlist[0], recommendation1] )\n",
    "            \n",
    "    # Items Baskets Product List = 3\n",
    "    elif(length == 3):\n",
    "        #Removing Products 'P04' and 'P08'\n",
    "        if( 'P04' in productlist and 'P08' in productlist):\n",
    "            productlist.remove('P04')\n",
    "            productlist.remove('P08')\n",
    "        elif( 'P08' in productlist ):\n",
    "            productlist.remove('P08')\n",
    "        elif( 'P04' in productlist ):\n",
    "            productlist.remove('P04')\n",
    "        if( len(productlist) == 3 ):\n",
    "            for sublist2 in comparelist: \n",
    "                extendedproductlist2 = []\n",
    "                if( productlist[0] != sublist2 and productlist[1] != sublist2 and productlist[2] != sublist2 ):\n",
    "                    extendedproductlist2.extend( [ productlist[0], productlist[1], productlist[2], sublist2 ] ) \n",
    "                    frequencycount2 = searchtransactionlist(extendedproductlist2, traininglist)\n",
    "                    recommendationlist2.append( [productlist[0], productlist[1], productlist[2], sublist2, frequencycount2] ) \n",
    "                    \n",
    "            recommendationlist2.sort( key = lambda x : x[4], reverse = True )\n",
    "            recommendation2 = recommendationlist2[0][3]\n",
    "            TestingList.append( [productlist[0], recommendation2] )        \n",
    "            \n",
    "       # After Removing 'P04' OR 'P08' from 2 Items baskets.\n",
    "        elif( len(productlist) == 2 ):  \n",
    "            for sublist2 in comparelist:  \n",
    "                extendedproductlist2 = []\n",
    "                if( productlist[0] != sublist2 and productlist[1] != sublist2):\n",
    "                        extendedproductlist2.extend( [ productlist[0], productlist[1], sublist2 ] )  # e.g.\n",
    "                        frequencycount2 = searchtransactionlist(extendedproductlist2, traininglist)\n",
    "                        recommendationlist2.append([productlist[0], productlist[1], sublist2, frequencycount2])                            \n",
    "                \n",
    "            recommendationlist2.sort( key = lambda x : x[3], reverse = True )        \n",
    "            recommendation2 = recommendationlist2[0][2]\n",
    "            TestingList.append( [productlist[0], recommendation2] )\n",
    "        \n",
    "        # After Removing 'P04' OR 'P08' from 2 Items baskets.    \n",
    "        elif( len(productlist) == 1 ):     \n",
    "            for sublist2 in comparelist:  \n",
    "                extendedproductlist2 = []\n",
    "                if( productlist[0] != sublist2  ):\n",
    "                    extendedproductlist2.extend( [ productlist[0], sublist2 ] ) \n",
    "                    frequencycount2 = searchtransactionlist(extendedproductlist2, traininglist)\n",
    "                    recommendationlist2.append( [productlist[0], sublist2, frequencycount2] ) \n",
    "                    \n",
    "            recommendationlist2.sort( key = lambda x : x[2], reverse = True )\n",
    "            recommendation2 = recommendationlist2[0][1]\n",
    "            TestingList.append( [productlist[0], recommendation2] )  \n",
    "        \n",
    "    else: \n",
    "        continue"
   ]
  },
  {
   "cell_type": "code",
   "execution_count": 22,
   "metadata": {
    "collapsed": true
   },
   "outputs": [],
   "source": [
    "# Creating Recommendation File\n",
    "transactionnumber = [ \"{0:03}\".format(i) for i in range(1,101) ]\n",
    "\n",
    "with open('market_basket_recommendations.txt', mode='wt') as outputRecommendationFile:     \n",
    "    for i in range(0, len(TestingList)):        \n",
    "        if ( i <= len(TestingList) ):\n",
    "            writeLine = str(transactionnumber[i]) + ',' + str(TestingList[i][1]) +'\\n'            \n",
    "        else:            \n",
    "            writeLine = str(transactionnumber[i]) + ',' + str(TestingList[i][1])     \n",
    "        outputRecommendationFile.write(writeLine)\n",
    "        \n",
    "outputRecommendationFile.close()"
   ]
  },
  {
   "cell_type": "code",
   "execution_count": null,
   "metadata": {
    "collapsed": true
   },
   "outputs": [],
   "source": []
  }
 ],
 "metadata": {
  "kernelspec": {
   "display_name": "Python 3",
   "language": "python",
   "name": "python3"
  },
  "language_info": {
   "codemirror_mode": {
    "name": "ipython",
    "version": 3
   },
   "file_extension": ".py",
   "mimetype": "text/x-python",
   "name": "python",
   "nbconvert_exporter": "python",
   "pygments_lexer": "ipython3",
   "version": "3.6.1"
  }
 },
 "nbformat": 4,
 "nbformat_minor": 2
}
